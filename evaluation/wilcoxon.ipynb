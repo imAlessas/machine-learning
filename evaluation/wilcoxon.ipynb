{
 "cells": [
  {
   "cell_type": "markdown",
   "id": "d4288ed3",
   "metadata": {},
   "source": [
    "# Wilcoxon comparison\n",
    "\n",
    "In this notebook, we will take a look at the Wilcoxon evaluation technique and how to use it to compare two sets of performances that aim to resemble the performance of two models.\n",
    "\n",
    "<!-- In this notebook, we will start to evaluate and compare two models, particularly the [K-Nearest Neighbours](/exercises/scikit-learn/KNN.ipynb) and the [Logistic Regression Classifier](../algorithms/logistic-regression-classifier/logistic-regression-classifier.ipynb). \n",
    "\n",
    "### Pandas\n",
    "\n",
    "We will use a Python package, called <tt>pandas</tt> that will be useful to print tables, which are called _dataframes_ and, as we can see from the script, are implemented as dictionaries: the key is the column and its value is a list of elements, which will populate each row of the table\n",
    "-->\n",
    "\n",
    "## First scenario\n",
    "\n"
   ]
  },
  {
   "cell_type": "code",
   "execution_count": 1,
   "id": "5ecd7235",
   "metadata": {},
   "outputs": [
    {
     "name": "stdout",
     "output_type": "stream",
     "text": [
      "  Model  Performance\n",
      "0    M1        0.511\n",
      "1    M1        0.711\n",
      "2    M1        0.611\n",
      "3    M1        0.811\n",
      "4    M2        0.525\n",
      "5    M2        0.655\n",
      "6    M2        0.825\n",
      "7    M2        0.925\n"
     ]
    }
   ],
   "source": [
    "import pandas as pd\n",
    "from scipy.stats import wilcoxon\n",
    "import seaborn as sns\n",
    "\n",
    "# create data\n",
    "dat = pd.DataFrame({\n",
    "  'Model': ['M1', 'M1', 'M1', 'M1', 'M2', 'M2', 'M2', 'M2'],\n",
    "  'Performance': [0.511, 0.711, 0.611, 0.811, 0.525, 0.655, 0.825, 0.925]\n",
    "})\n",
    "\n",
    "print(dat)"
   ]
  },
  {
   "cell_type": "markdown",
   "id": "d895ca27",
   "metadata": {},
   "source": [
    "\n",
    "<!-- The first thing to do is \n",
    "\n",
    "Wilocoxon that is scipi stats package. measure differences, compute probability of having switthc M1 M2 M1 .... IN input has perfomrance of model 1.\n",
    "\n",
    "Alternative hipo is the two sided, interested in both of M1 better than M2 or if the M2 is better than M1. ituations where we can decide just to look at M1 or M2. Correction false, is lika a numerica approximation *out of contex f course -->"
   ]
  },
  {
   "cell_type": "code",
   "execution_count": 2,
   "id": "73f4d150",
   "metadata": {},
   "outputs": [],
   "source": [
    "# perform Wilcoxon signed-rank test\n",
    "wilcoxon_stat, wilcoxon_pval = wilcoxon(dat[dat['Model'] == 'M1']['Performance'], \n",
    "                                        dat[dat['Model'] == 'M2']['Performance'], \n",
    "                                        alternative = 'two-sided', \n",
    "                                        zero_method = 'wilcox', \n",
    "                                        correction=False)\n"
   ]
  },
  {
   "cell_type": "markdown",
   "id": "b36dd71e",
   "metadata": {},
   "source": [
    "<!--  -->"
   ]
  },
  {
   "cell_type": "code",
   "execution_count": 3,
   "id": "16755187",
   "metadata": {},
   "outputs": [
    {
     "name": "stdout",
     "output_type": "stream",
     "text": [
      "Wilcoxon Signed-Rank Test:\n",
      "p-value: 0.375\n"
     ]
    },
    {
     "data": {
      "text/plain": [
       "<Axes: xlabel='Model', ylabel='Performance'>"
      ]
     },
     "execution_count": 3,
     "metadata": {},
     "output_type": "execute_result"
    },
    {
     "data": {
      "image/png": "[encoded data removed]",
      "text/plain": [
       "<Figure size 640x480 with 1 Axes>"
      ]
     },
     "metadata": {},
     "output_type": "display_data"
    }
   ],
   "source": [
    "# display test results\n",
    "print(\"Wilcoxon Signed-Rank Test:\")\n",
    "#print(f\"Statistic: {wilcoxon_stat}\")\n",
    "print(f\"p-value: {wilcoxon_pval}\")\n",
    "\n",
    "# plot with statistical results\n",
    "sns.boxplot(data=dat, x='Model', y='Performance')\n",
    "sns.stripplot(data=dat, x='Model', y='Performance', color='black', size=5)\n"
   ]
  },
  {
   "cell_type": "markdown",
   "id": "e6cd4036",
   "metadata": {},
   "source": [
    "## Second scenario\n",
    "\n"
   ]
  },
  {
   "cell_type": "code",
   "execution_count": 4,
   "id": "f88a1b0e",
   "metadata": {},
   "outputs": [
    {
     "name": "stdout",
     "output_type": "stream",
     "text": [
      "   Model  Performance\n",
      "0     M1    -0.565134\n",
      "1     M1    -0.112128\n",
      "2     M1     0.427029\n",
      "3     M1     0.187702\n",
      "4     M1     0.565303\n",
      "5     M1     0.744575\n",
      "6     M1    -0.176114\n",
      "7     M1    -0.644399\n",
      "8     M1    -0.770612\n",
      "9     M1     0.793703\n",
      "10    M2    -0.070872\n",
      "11    M2     0.054508\n",
      "12    M2    -0.114985\n",
      "13    M2     1.159747\n",
      "14    M2     1.300651\n",
      "15    M2     2.511725\n",
      "16    M2     1.605521\n",
      "17    M2     0.290559\n",
      "18    M2     1.943392\n",
      "19    M2    -0.774582\n"
     ]
    }
   ],
   "source": [
    "import numpy as np\n",
    "import pandas as pd\n",
    "from scipy.stats import wilcoxon\n",
    "import seaborn as sns\n",
    "\n",
    "samples = 10\n",
    "\n",
    "perf = pd.DataFrame({\n",
    "  'Model': ['M1'] * samples + ['M2'] * samples,\n",
    "  'Performance': list(np.random.normal(size=samples)) + list(np.random.normal(size=samples) + 1)\n",
    "})\n",
    "\n",
    "print(perf)"
   ]
  },
  {
   "cell_type": "code",
   "execution_count": 5,
   "id": "6b2cf9ad",
   "metadata": {},
   "outputs": [],
   "source": [
    "\n",
    "# perform Wilcoxon signed-rank test\n",
    "wilcoxon_stat, wilcoxon_pval = wilcoxon(perf[perf['Model'] == 'M1']['Performance'], \n",
    "                                        perf[perf['Model'] == 'M2']['Performance'], \n",
    "                                        alternative = 'two-sided', \n",
    "                                        zero_method = 'wilcox', \n",
    "                                        correction=False)\n"
   ]
  },
  {
   "cell_type": "code",
   "execution_count": 6,
   "id": "606f3563",
   "metadata": {},
   "outputs": [
    {
     "name": "stdout",
     "output_type": "stream",
     "text": [
      "Wilcoxon Signed-Rank Test:\n",
      "Statistic: 10.0\n",
      "p-value: 0.083984375\n",
      "Mean Performance for M1: 0.04499248917166314\n",
      "Mean Performance for M2: 0.7905664565304692\n"
     ]
    },
    {
     "data": {
      "text/plain": [
       "<Axes: xlabel='Model', ylabel='Performance'>"
      ]
     },
     "execution_count": 6,
     "metadata": {},
     "output_type": "execute_result"
    },
    {
     "data": {
      "image/png": "[encoded data removed]",
      "text/plain": [
       "<Figure size 640x480 with 1 Axes>"
      ]
     },
     "metadata": {},
     "output_type": "display_data"
    }
   ],
   "source": [
    "# display test results\n",
    "print(\"Wilcoxon Signed-Rank Test:\")\n",
    "print(f\"Statistic: {wilcoxon_stat}\")\n",
    "print(f\"p-value: {wilcoxon_pval}\")\n",
    "\n",
    "# calculate means\n",
    "mean_m1 = perf[perf['Model'] == 'M1']['Performance'].mean()\n",
    "mean_m2 = perf[perf['Model'] == 'M2']['Performance'].mean()\n",
    "\n",
    "print(f\"Mean Performance for M1: {mean_m1}\")\n",
    "print(f\"Mean Performance for M2: {mean_m2}\")\n",
    "\n",
    "# plot with statistical results\n",
    "sns.boxplot(data=perf, x='Model', y='Performance')\n",
    "sns.stripplot(data=perf, x='Model', y='Performance', color='black', size=5)\n"
   ]
  }
 ],
 "metadata": {
  "kernelspec": {
   "display_name": "Python 3 (ipykernel)",
   "language": "python",
   "name": "python3"
  },
  "language_info": {
   "codemirror_mode": {
    "name": "ipython",
    "version": 3
   },
   "file_extension": ".py",
   "mimetype": "text/x-python",
   "name": "python",
   "nbconvert_exporter": "python",
   "pygments_lexer": "ipython3",
   "version": "3.9.6"
  }
 },
 "nbformat": 4,
 "nbformat_minor": 5
}
