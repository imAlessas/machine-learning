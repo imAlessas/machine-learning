{
 "cells": [
  {
   "cell_type": "markdown",
   "id": "d4288ed3",
   "metadata": {},
   "source": [
    "Pandas i python pakage form amanging tables. tables are called dataframes. IMplemented with disctionaries (seems like an hash maps). This down is an explicit definition of the dataframe that takes as input a dictionary. Key model will bring to the bicket will have all models.\n",
    "\n",
    "Key in the dictionary is a column. The first column is like a primary key of the table. \n",
    "\n",
    "It is like having four perfomrance values on fold 1 2 3 4 for model M1 and M2. "
   ]
  },
  {
   "cell_type": "code",
   "execution_count": 1,
   "id": "5ecd7235",
   "metadata": {},
   "outputs": [
    {
     "ename": "ModuleNotFoundError",
     "evalue": "No module named 'seaborn'",
     "output_type": "error",
     "traceback": [
      "\u001b[1;31m---------------------------------------------------------------------------\u001b[0m",
      "\u001b[1;31mModuleNotFoundError\u001b[0m                       Traceback (most recent call last)",
      "Cell \u001b[1;32mIn[1], line 3\u001b[0m\n\u001b[0;32m      1\u001b[0m \u001b[38;5;28;01mimport\u001b[39;00m \u001b[38;5;21;01mpandas\u001b[39;00m \u001b[38;5;28;01mas\u001b[39;00m \u001b[38;5;21;01mpd\u001b[39;00m\n\u001b[0;32m      2\u001b[0m \u001b[38;5;28;01mfrom\u001b[39;00m \u001b[38;5;21;01mscipy\u001b[39;00m\u001b[38;5;21;01m.\u001b[39;00m\u001b[38;5;21;01mstats\u001b[39;00m \u001b[38;5;28;01mimport\u001b[39;00m wilcoxon\n\u001b[1;32m----> 3\u001b[0m \u001b[38;5;28;01mimport\u001b[39;00m \u001b[38;5;21;01mseaborn\u001b[39;00m \u001b[38;5;28;01mas\u001b[39;00m \u001b[38;5;21;01msns\u001b[39;00m\n\u001b[0;32m      5\u001b[0m \u001b[38;5;66;03m# create data\u001b[39;00m\n\u001b[0;32m      6\u001b[0m dat \u001b[38;5;241m=\u001b[39m pd\u001b[38;5;241m.\u001b[39mDataFrame({\n\u001b[0;32m      7\u001b[0m   \u001b[38;5;124m'\u001b[39m\u001b[38;5;124mModel\u001b[39m\u001b[38;5;124m'\u001b[39m: [\u001b[38;5;124m'\u001b[39m\u001b[38;5;124mM1\u001b[39m\u001b[38;5;124m'\u001b[39m, \u001b[38;5;124m'\u001b[39m\u001b[38;5;124mM1\u001b[39m\u001b[38;5;124m'\u001b[39m, \u001b[38;5;124m'\u001b[39m\u001b[38;5;124mM1\u001b[39m\u001b[38;5;124m'\u001b[39m, \u001b[38;5;124m'\u001b[39m\u001b[38;5;124mM1\u001b[39m\u001b[38;5;124m'\u001b[39m, \u001b[38;5;124m'\u001b[39m\u001b[38;5;124mM2\u001b[39m\u001b[38;5;124m'\u001b[39m, \u001b[38;5;124m'\u001b[39m\u001b[38;5;124mM2\u001b[39m\u001b[38;5;124m'\u001b[39m, \u001b[38;5;124m'\u001b[39m\u001b[38;5;124mM2\u001b[39m\u001b[38;5;124m'\u001b[39m, \u001b[38;5;124m'\u001b[39m\u001b[38;5;124mM2\u001b[39m\u001b[38;5;124m'\u001b[39m],\n\u001b[0;32m      8\u001b[0m   \u001b[38;5;124m'\u001b[39m\u001b[38;5;124mPerformance\u001b[39m\u001b[38;5;124m'\u001b[39m: [\u001b[38;5;241m0.511\u001b[39m, \u001b[38;5;241m0.711\u001b[39m, \u001b[38;5;241m0.611\u001b[39m, \u001b[38;5;241m0.811\u001b[39m, \u001b[38;5;241m0.525\u001b[39m, \u001b[38;5;241m0.655\u001b[39m, \u001b[38;5;241m0.825\u001b[39m, \u001b[38;5;241m0.925\u001b[39m]\n\u001b[0;32m      9\u001b[0m })\n",
      "\u001b[1;31mModuleNotFoundError\u001b[0m: No module named 'seaborn'"
     ]
    }
   ],
   "source": [
    "import pandas as pd\n",
    "from scipy.stats import wilcoxon\n",
    "import seaborn as sns\n",
    "\n",
    "# create data\n",
    "dat = pd.DataFrame({\n",
    "  'Model': ['M1', 'M1', 'M1', 'M1', 'M2', 'M2', 'M2', 'M2'],\n",
    "  'Performance': [0.511, 0.711, 0.611, 0.811, 0.525, 0.655, 0.825, 0.925]\n",
    "})\n",
    "\n",
    "print(dat)"
   ]
  },
  {
   "cell_type": "markdown",
   "id": "d895ca27",
   "metadata": {},
   "source": [
    "Wilocoxon that is scipi stats package. measure differences, compute probability of having switthc M1 M2 M1 .... IN input has perfomrance of model 1.\n",
    "\n",
    "Alternative hipo is the two sided, interested in both of M1 better than M2 or if the M2 is better than M1. ituations where we can decide just to look at M1 or M2. Correction false, is lika a numerica approximation *out of contex f course"
   ]
  },
  {
   "cell_type": "code",
   "execution_count": null,
   "id": "73f4d150",
   "metadata": {},
   "outputs": [],
   "source": [
    "\n",
    "# perform Wilcoxon signed-rank test\n",
    "wilcoxon_stat, wilcoxon_pval = wilcoxon(dat[dat['Model'] == 'M1']['Performance'], \n",
    "                                        dat[dat['Model'] == 'M2']['Performance'], \n",
    "                                        alternative = 'two-sided', \n",
    "                                        zero_method = 'wilcox', \n",
    "                                        correction=False)\n",
    "\n"
   ]
  },
  {
   "cell_type": "code",
   "execution_count": null,
   "id": "16755187",
   "metadata": {},
   "outputs": [],
   "source": [
    "# display test results\n",
    "print(\"Wilcoxon Signed-Rank Test:\")\n",
    "#print(f\"Statistic: {wilcoxon_stat}\")\n",
    "print(f\"p-value: {wilcoxon_pval}\")\n",
    "\n",
    "# plot with statistical results\n",
    "sns.boxplot(data=dat, x='Model', y='Performance')\n",
    "sns.stripplot(data=dat, x='Model', y='Performance', color='black', size=5)\n"
   ]
  },
  {
   "cell_type": "code",
   "execution_count": null,
   "id": "f88a1b0e",
   "metadata": {},
   "outputs": [],
   "source": [
    "import numpy as np\n",
    "import pandas as pd\n",
    "from scipy.stats import wilcoxon\n",
    "import seaborn as sns\n",
    "\n",
    "samples = 10\n",
    "\n",
    "perf = pd.DataFrame({\n",
    "  'Model': ['M1'] * samples + ['M2'] * samples,\n",
    "  'Performance': list(np.random.normal(size=samples)) + list(np.random.normal(size=samples) + 1)\n",
    "})\n",
    "\n",
    "print(perf)"
   ]
  },
  {
   "cell_type": "code",
   "execution_count": null,
   "id": "6b2cf9ad",
   "metadata": {},
   "outputs": [],
   "source": [
    "\n",
    "# perform Wilcoxon signed-rank test\n",
    "wilcoxon_stat, wilcoxon_pval = wilcoxon(perf[perf['Model'] == 'M1']['Performance'], \n",
    "                                        perf[perf['Model'] == 'M2']['Performance'], \n",
    "                                        alternative = 'two-sided', \n",
    "                                        zero_method = 'wilcox', \n",
    "                                        correction=False)\n",
    "\n"
   ]
  },
  {
   "cell_type": "code",
   "execution_count": null,
   "id": "606f3563",
   "metadata": {},
   "outputs": [],
   "source": [
    "# display test results\n",
    "print(\"Wilcoxon Signed-Rank Test:\")\n",
    "print(f\"Statistic: {wilcoxon_stat}\")\n",
    "print(f\"p-value: {wilcoxon_pval}\")\n",
    "\n",
    "# calculate means\n",
    "mean_m1 = perf[perf['Model'] == 'M1']['Performance'].mean()\n",
    "mean_m2 = perf[perf['Model'] == 'M2']['Performance'].mean()\n",
    "\n",
    "print(f\"Mean Performance for M1: {mean_m1}\")\n",
    "print(f\"Mean Performance for M2: {mean_m2}\")\n",
    "\n",
    "# plot with statistical results\n",
    "sns.boxplot(data=perf, x='Model', y='Performance')\n",
    "sns.stripplot(data=perf, x='Model', y='Performance', color='black', size=5)\n"
   ]
  }
 ],
 "metadata": {
  "kernelspec": {
   "display_name": "Python 3 (ipykernel)",
   "language": "python",
   "name": "python3"
  },
  "language_info": {
   "codemirror_mode": {
    "name": "ipython",
    "version": 3
   },
   "file_extension": ".py",
   "mimetype": "text/x-python",
   "name": "python",
   "nbconvert_exporter": "python",
   "pygments_lexer": "ipython3",
   "version": "3.9.6"
  }
 },
 "nbformat": 4,
 "nbformat_minor": 5
}
