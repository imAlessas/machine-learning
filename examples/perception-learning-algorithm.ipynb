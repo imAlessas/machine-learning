{
 "cells": [
  {
   "cell_type": "markdown",
   "metadata": {},
   "source": [
    "# Perception Learning Algorithm\n",
    "\n",
    "The _Perception Learning Algorithm_, also called PLA or __perceptron__ is the simplest and yet very powerful learning algorithm based on one neuron.\n",
    "\n",
    "The idea behind this algorithm relies on two important concepts: the _input_ and its _weight_. Every input has its weight based on how important it is in the model. The PLA output to the machine is binary, either positive or negative and it is calculated as follows:\n",
    "\n",
    "$$\n",
    "    \\text{sign}\\left[ \\sum_{i = 0}^n w_ix_i \\right]\n",
    "$$\n",
    "\n",
    "Where in this case the value $w_0$ is the __threshold__ ($x_0$ is always 1) and the values $x_i$ and $w_i$ are the $i$-th values of the input and their respective weight. If we sum up all the $x_i$ and $w_i$ in two vectors, the formula is the following:\n",
    "\n",
    "$$\n",
    "    \\text{sign}\\left[ w^Tx \\right]\\, \\hspace{10px} \\text{where} \\hspace{10px} w = \\begin{bmatrix} w_0 & w_1 & \\cdots & w_n \\end{bmatrix}\\, \\hspace{10px} \\text{and} \\hspace{10px} x = \\begin{bmatrix} x_0 \\\\ x_1 \\\\ \\vdots \\\\ x_n \\end{bmatrix}\n",
    "$$\n",
    "\n",
    "By hypothesizing that bot $w$ and $x$ are bi-dimensional, we can plot them into a plane and study the product between the two vectors. If the product is positive but should be negative, we try to rotate the $w$ vector to the negative part of the plane. If the product is negative and should be positive we try to rotate the $w$ vector to the positive half of the plane.\n",
    "\n",
    "### Pseudocode\n",
    "\n",
    "The algorithm can be achieved by implementing the following pseudocode:\n",
    "\n",
    "$$\n",
    "    \\text{initiate weight}\\,\\, w\\,\\, \\text{and},\\,\\, i \\leftarrow 1\n",
    "$$\n",
    "\n",
    "$$\n",
    "    \\forall x_i\\,\\,\\text{predict +1 if}\\,\\, w_1\\cdot x_i >0\\,\\,\\text{else}\\,\\, -1\n",
    "$$\n",
    "\n",
    "$$\n",
    "    \\text{if}\\,\\, y_i(w_1\\cdot x_i) < 0\\,\\, w_1 \\leftarrow w_i + x_iy_i\n",
    "$$\n",
    "\n",
    "$$\n",
    "    i \\leftarrow i + 1\n",
    "$$\n"
   ]
  },
  {
   "cell_type": "markdown",
   "metadata": {},
   "source": [
    "## Algorithm implementation\n",
    "\n",
    "By starting from the pseudocode we can write a Python snippet that allows us to properly implement the aforementioned algorithm.\n",
    "\n",
    "### Dataset\n",
    "\n",
    "The first thing to do is to create the <tt>dataset</tt>. In this case, it is a very simple one, which associates the coordinates of $ x_i = (a_1, a_2, a_3) $ to its correct output $y_i$. The dataset is represented by a _list_ of lists."
   ]
  },
  {
   "cell_type": "code",
   "execution_count": null,
   "metadata": {},
   "outputs": [],
   "source": [
    "# create dataset [(a_0, a_1, a_2, y), ...]\n",
    "dataset = [\n",
    "    [1,  3,   1,  -1], \n",
    "    [1,  1,   2,   1], \n",
    "    [1,  2.5, 2,  -1], \n",
    "    [1,  1,   4,  -1]\n",
    "]"
   ]
  },
  {
   "cell_type": "markdown",
   "metadata": {},
   "source": [
    "### Weight\n",
    "\n",
    "After creating the dataset, it is important to create the <tt>weight vector</tt> to store the respective weight $w_i$ for every $x_i$ in the dataset.\n",
    ">\n",
    "Another important thing is to define the __hyper-parameters__ such as the _number of iterations_. This is important because if the dataset is not _linear_, meaning that the dataset is not liberally separable. If it is not separable the algorithm will fall into an infinite loop in which it constantly tries to reach an unreachable solution. The hyperparameters of the model can also be optimized meaning that there is an optimal threshold for the algorithm. In this case, the threshold's value (<tt>steps</tt>) is $50$. "
   ]
  },
  {
   "cell_type": "code",
   "execution_count": null,
   "metadata": {},
   "outputs": [],
   "source": [
    "# vector (list) of the parameters of the model [w_0, w_1, w_2]\n",
    "w = [2.1, 1.4, -0.5]\n",
    "\n",
    "# hyper-parameters (iterations)\n",
    "steps = 50"
   ]
  },
  {
   "cell_type": "markdown",
   "metadata": {},
   "source": [
    "### Learning stage\n",
    "\n",
    "The snippet starts with an infinite _while_ loop. Inside the loop, after displaying the number of iterations, the variable <tt>num_errors</tt> is defined, whose goal is to count the number of errors that occurred during the $i$-th iteration. \n",
    "\n",
    "Then, using a _for_ loop, we cycle through all the elements inside the dataset. It is important to note that, precisely because <tt>dataset</tt> is a list of lists, the <tt>elem</tt> variable contains a list. Inside the loop, the $y$ and $x$ coordinates are stored in local variables using the __slicing__ technique (<tt>elem[:3]</tt>).\n",
    "\n",
    "After calculating the <tt>output</tt> as an explicit summation (that can be also achieved by a _nested for_ loop) the most important part of the algorithm: inside the _if_ statement the weights are adjusted to try to separate the dataset. Moreover, if the weights are being adjusted, it means that an error has occurred and the related variable is incremented.\n",
    "\n",
    "Outside the statement, the available iteration number is increased. Eventually, there is the statement that lets the algorithm stop: the final _if_ statement breaks the infinite loop if there are no iterations available or if a correct solution has been found by the algorithm."
   ]
  },
  {
   "cell_type": "code",
   "execution_count": null,
   "metadata": {},
   "outputs": [],
   "source": [
    "# repeat until no errors are found (or maximum number of iterations)\n",
    "while True:\n",
    "    \n",
    "    print(\"remaining iterations: \", steps)\n",
    "        \n",
    "    # number of errors\n",
    "    num_errors = 0\n",
    "    \n",
    "    # for each element in the dataset\n",
    "    for elem in dataset:\n",
    "\n",
    "        # get class of element\n",
    "        y = elem[3]\n",
    "\n",
    "        # get coordinates\n",
    "        x = elem[:3]\n",
    "\n",
    "        # compute output h(x) = \\sum_i w_i * x_i\n",
    "        output = (w[0] * x[0]) + (w[1] * x[1]) + (w[2] * x[2])\n",
    "\n",
    "        # compare output of h(x) with f(x)\n",
    "        if (output >= 0 and y < 0) or (output < 0 and y > 0):\n",
    "            # update parameters\n",
    "            w[0] = w[0] + (x[0] * y)\n",
    "            w[1] = w[1] + (x[1] * y)\n",
    "            w[2] = w[2] + (x[2] * y)\n",
    "            # update number of errors\n",
    "            num_errors += 1\n",
    "        \n",
    "    # update iterations\n",
    "    steps -= 1\n",
    "\n",
    "    # exit while loop if\n",
    "    if (num_errors == 0) or (steps == 0):\n",
    "        break\n",
    "\n",
    "print(\"solution found:       \", w)"
   ]
  },
  {
   "cell_type": "markdown",
   "metadata": {},
   "source": [
    "## Adding plots\n",
    "\n",
    "To have a better understanding of how the PLA works, it is possible to trace some plots of the initial and final result of the separation algorithm.\n",
    "\n",
    "The initial parameters are the same as the previous example: <tt>dataset</tt>, <tt>w</tt> and <tt>steps</tt>. In this case an additional _library_ shall be imported to plot properly the graphs."
   ]
  },
  {
   "cell_type": "code",
   "execution_count": null,
   "metadata": {},
   "outputs": [],
   "source": [
    "import matplotlib.pyplot as plt\n",
    "\n",
    "# create dataset (x_0, x_1, x_2, y)\n",
    "dataset = [\n",
    "    [1,  3.4,  1.0,  -1], \n",
    "    [1,  1.5,  2.2,  -1], \n",
    "    [1,  3.6,  2.4,   1], \n",
    "    [1,  1.7,  3.6,  -1]\n",
    "]\n",
    "\n",
    "# initialize weights\n",
    "w = [-1.0, -1.0, 1.0]\n",
    "\n",
    "# stopping rule\n",
    "steps = 1000"
   ]
  },
  {
   "cell_type": "markdown",
   "metadata": {},
   "source": [
    "### Initial state\n",
    "\n",
    "To plot the initial state it is necessary to create a <tt>figure</tt> and plot the initial dataset. After setting the figure limits as $[-5,5]$, the initial state plot has been defined in the following way:\n",
    "\n",
    "$$\n",
    "    h(x) = ax + by + c \\hspace{10px} = \\hspace{10px} w_1x_1 + w_2x_2 + w_0\n",
    "$$\n",
    "\n",
    "$$\n",
    "    x_1 = -\\frac{w_1}{w_2}x_2 - \\frac{w_0}{w_2}\n",
    "    \\hspace{40px}\n",
    "    x_2 = -\\frac{w_1}{w_2}x_1 - \\frac{w_0}{w_2}\n",
    "$$\n",
    "\n",
    "Hence in this way, the initial parameters have been calculated in the snippet below and eventually plotted."
   ]
  },
  {
   "cell_type": "code",
   "execution_count": null,
   "metadata": {},
   "outputs": [],
   "source": [
    "# create figure\n",
    "fig = plt.figure()\n",
    "plt.grid(linewidth = .5)\n",
    "\n",
    "# plot dataset\n",
    "plt.plot([item[1] for item in dataset if item[3] == 1], [item[2] for item in dataset if item[3] == 1], 'v');\n",
    "plt.plot([item[1] for item in dataset if item[3] == -1], [item[2] for item in dataset if item[3] == -1], 's');\n",
    "\n",
    "# set limits on axis\n",
    "plt.xlim(-5, 5)\n",
    "plt.ylim(-5, 5)\n",
    "\n",
    "# calculate initial parameters\n",
    "x1 = -5 * (-w[1]/w[2]) - w[0]/w[2]\n",
    "x2 = +5 * (-w[1]/w[2]) - w[0]/w[2]\n",
    "\n",
    "# plot initial state\n",
    "plt.plot([-5, 5], [x1, x2], color='red', linewidth = 1)\n",
    "\n"
   ]
  },
  {
   "cell_type": "markdown",
   "metadata": {},
   "source": [
    "As we can see, the red line _does not_ split the plane by dividing the yellow squares and the blue triangles meaning that this model is wrong."
   ]
  },
  {
   "cell_type": "markdown",
   "metadata": {},
   "source": [
    "### Apply PLA\n",
    "\n",
    "Now let's try plotting all the steps of the algorithm: the code is very similar to the one displayed before with the only difference that now at every iteration the temporary state is displayed as well to have a better understanding of the algorithm work."
   ]
  },
  {
   "cell_type": "code",
   "execution_count": null,
   "metadata": {},
   "outputs": [],
   "source": [
    "fig = plt.figure()\n",
    "#ax = plt.axes()\n",
    "plt.grid(linewidth = .5)\n",
    "\n",
    "plt.plot([item[1] for item in dataset if item[3] == 1], [item[2] for item in dataset if item[3] == 1], 'v');\n",
    "plt.plot([item[1] for item in dataset if item[3] == -1], [item[2] for item in dataset if item[3] == -1], 's');\n",
    "\n",
    "plt.xlim(-5, 5)\n",
    "plt.ylim(-5, 5)\n",
    "\n",
    "# set checkpoint\n",
    "num_errors = 0\n",
    "\n",
    "while True:\n",
    "\n",
    "    for datapoint in dataset:\n",
    "\n",
    "        x = datapoint[:3]\n",
    "        y = datapoint[3]\n",
    "\n",
    "        output = 0\n",
    "\n",
    "        dot_prod = (w[0] * x[0]) + (w[1] * x[1]) + (w[2] * x[2])\n",
    "        # print(dot_prod)\n",
    "\n",
    "        if (dot_prod >= 0 and y < 0) or (dot_prod <= 0 and y >= 0):\n",
    "            w[0] = w[0] + (x[0] * y)\n",
    "            w[1] = w[1] + (x[1] * y)\n",
    "            w[2] = w[2] + (x[2] * y)\n",
    "            num_errors += 1\n",
    "        \n",
    "    \n",
    "    x1 = -5 * (-w[1]/w[2]) - w[0]/w[2] \n",
    "    x2 = +5 * (-w[1]/w[2]) - w[0]/w[2] \n",
    "    \n",
    "    plt.plot([-5, 5], [x1, x2], color='grey', linewidth = 0.25);\n",
    "    \n",
    "    if num_errors == 0:\n",
    "        break\n",
    "    else:\n",
    "        num_errors = 0\n",
    "    \n",
    "    steps = steps - 1\n",
    "    \n",
    "    if steps == 0:\n",
    "        print(\"step zero\")\n",
    "        break\n",
    "        \n",
    "plt.plot([-5, 5], [x1, x2], color='green', linewidth = 1);\n",
    "\n"
   ]
  },
  {
   "cell_type": "markdown",
   "metadata": {},
   "source": [
    "By observing the graph we can see that now the green line separates the plane according to the color and shape of the initial dataset."
   ]
  }
 ],
 "metadata": {
  "kernelspec": {
   "display_name": "Python 3",
   "language": "python",
   "name": "python3"
  },
  "language_info": {
   "codemirror_mode": {
    "name": "ipython",
    "version": 3
   },
   "file_extension": ".py",
   "mimetype": "text/x-python",
   "name": "python",
   "nbconvert_exporter": "python",
   "pygments_lexer": "ipython3",
   "version": "3.9.6"
  }
 },
 "nbformat": 4,
 "nbformat_minor": 2
}
