{
 "cells": [
  {
   "cell_type": "markdown",
   "metadata": {},
   "source": [
    "# Improved perceptron \n",
    "\n",
    "## Initial setup\n",
    "\n",
    "After importing the libraries <tt>numpy</tt> and <tt>pyplot</tt>, before coding the improved algorithm it is important to set up the environment.\n",
    "\n",
    "The first thing to do is to generate some __pseudo-random__ numbers. They are called that way because, given the seed (which, in this case, is 22), their generation is entirely deterministic. In such a way the simulation is replicable. Secondly, the number <tt>N</tt> of samples per class is defined (can be seen as the $N$ of the _Hoeffding's inequality_)."
   ]
  },
  {
   "cell_type": "code",
   "execution_count": 53,
   "metadata": {},
   "outputs": [],
   "source": [
    "import numpy as np\n",
    "import matplotlib.pyplot as plt\n",
    "\n",
    "# pseudo-random number generator\n",
    "np.random.seed(22)\n",
    "\n",
    "# generate 10 points per class\n",
    "N = 10"
   ]
  },
  {
   "cell_type": "markdown",
   "metadata": {},
   "source": [
    "After that, the <tt>normal</tt> function is inked to generate the numbers in a Gaussian curve. The specified values stand for:\n",
    "\n",
    "* <tt>loc</tt>, specifying the _mean_ value to $0.5$ (generally is $0$);\n",
    "\n",
    "* <tt>scale</tt>, which is related to the _standard deviation_, set at $0.1$;\n",
    "\n",
    "These two values make the bell curve very dense across the value $0.5$. This technique is used to generate 4 sets: the x-axis and y-axis of $X1$ and $X2$.\n",
    "\n",
    "Particularly to generate $X2$ components, it is used the bell curve of $X1$ added to another Gaussian distribution.\n"
   ]
  },
  {
   "cell_type": "code",
   "execution_count": 54,
   "metadata": {},
   "outputs": [],
   "source": [
    "# generates x-axis of X1 and X2\n",
    "X1_1 = 2 * np.random.normal(loc = 0.5, scale = 0.1, size = N)\n",
    "\n",
    "X2_1 = X1_1 + np.random.normal(loc = 0, scale = 0.15, size=N) + 0.1\n",
    "\n",
    "# labels of the points \n",
    "Y1 = np.ones(N)\n",
    "\n",
    "\n",
    "# generates x-axis of X1 and X2\n",
    "X1_2 = 2 * np.random.normal(loc = 0.6, scale = 0.05, size = N)\n",
    "\n",
    "X2_2 = X1_2 - np.random.normal(loc = 0.6, scale = 0.07, size = N)\n",
    "\n",
    "# labels of the points \n",
    "Y2 = - np.ones(N)"
   ]
  },
  {
   "cell_type": "markdown",
   "metadata": {},
   "source": [
    "After generating the sets containing the coordinates of the points, it is needed to plot them using the scatter</tt> function.\n",
    "\n",
    "Secondly, the _weight_ vector $w = {w_0, \\dots, w_n}$ is generated through the <tt>uniform</tt> function that generates a random set of 3 numbers with an uniform distribution between $[-1, 1]$.\n",
    "\n",
    "Eventually, the final setup is displayed using the <tt>plot</tt> function."
   ]
  },
  {
   "cell_type": "code",
   "execution_count": 55,
   "metadata": {},
   "outputs": [
    {
     "name": "stdout",
     "output_type": "stream",
     "text": [
      "[-0.60488298  0.5632455   0.21482773]\n"
     ]
    },
    {
     "data": {
      "text/plain": [
       "[<matplotlib.lines.Line2D at 0x2ad55a7e9d0>]"
      ]
     },
     "execution_count": 55,
     "metadata": {},
     "output_type": "execute_result"
    },
    {
     "data": {
      "image/png": "[encoded data removed]",
      "text/plain": [
       "<Figure size 640x480 with 1 Axes>"
      ]
     },
     "metadata": {},
     "output_type": "display_data"
    }
   ],
   "source": [
    "# plots the sets of points\n",
    "plt.scatter(X1_1, X2_1)\n",
    "plt.scatter(X1_2, X2_2)\n",
    "\n",
    "# generates w = {w0, ..., wn}\n",
    "w = np.random.uniform(low = -1, size = 3)\n",
    "print(w)\n",
    "\n",
    "# plots the initial setup\n",
    "plt.plot([np.min(X1_1), np.max(X1_1)], # defines coordinates of the line\n",
    "         [np.min(X1_1) * (-w[1]/w[2]) - w[0]/w[2], np.max(X1_2) * (-w[1]/w[2]) - w[0]/w[2]], # defines y = mx + q\n",
    "         color='red')"
   ]
  },
  {
   "cell_type": "markdown",
   "metadata": {},
   "source": [
    "## Learning algorithm"
   ]
  }
 ],
 "metadata": {
  "kernelspec": {
   "display_name": "Python 3",
   "language": "python",
   "name": "python3"
  },
  "language_info": {
   "codemirror_mode": {
    "name": "ipython",
    "version": 3
   },
   "file_extension": ".py",
   "mimetype": "text/x-python",
   "name": "python",
   "nbconvert_exporter": "python",
   "pygments_lexer": "ipython3",
   "version": "3.9.6"
  }
 },
 "nbformat": 4,
 "nbformat_minor": 2
}
