{
 "cells": [
  {
   "cell_type": "markdown",
   "metadata": {},
   "source": [
    "# Dataset\n",
    "\n",
    "This notebook provides basic information and notation to properly understand what the data-structures used in the machine learning model truly represent, from a theoretical point of view.\n",
    "\n",
    "The information needed to implement any type of machine learning model is to have three main data structures, a data-matrix $X$, a label vector $y$ and a weight vector $w$.\n",
    "\n",
    "## Data matrix $X$\n",
    "The data matrix (also called dataset) $X$ is a matrix of $d \\times N$, where $d$ is the number of _features_ and the dimension of the space. Consequently, one single data point is represented as $X_i$, and $j$-th feature of the datapoint $X_i$ is $X_i^j$. \n",
    "\n",
    "$$\n",
    "X = \n",
    "\\begin{bmatrix}\n",
    "X_1^1       & X_1^2         & \\dots     & X_1^j         & \\dots     & X_1^d     \\\\\n",
    "X_2^1       & X_2^2         & \\dots     & X_2^j         & \\dots     & X_2^d     \\\\\n",
    "\\vdots      & \\vdots        & \\ddots    & \\vdots        & \\ddots    & \\vdots    \\\\\n",
    "X_i^1       & X_i^2         & \\dots     & X_i^j         & \\dots     & X_i^d     \\\\\n",
    "\\vdots      & \\vdots        & \\ddots    & \\vdots        & \\ddots    & \\vdots    \\\\\n",
    "X_{N-1}^1   & X_{N-1}^2     & \\dots     & X_{N-1}^j     & \\dots     & X_{N-1}^d \\\\\n",
    "X_N^1       & X_N^2         & \\dots     & X_N^j         & \\dots     & X_N^d     \\\\\n",
    "\\end{bmatrix}\n",
    "$$\n",
    "\n",
    "This means that the $i$-th datapoint will be the first row and will be composed of exactly $d$ features as follows:\n",
    "$$\n",
    "X_i = \n",
    "\\begin{bmatrix}\n",
    "X_i^1        & \\dots     & X_i^j         & \\dots     & X_i^d\n",
    "\\end{bmatrix}\n",
    "$$\n",
    "\n",
    "On the other hand, we can select the $j$-th feature as a vertical vector of $N$ values:\n",
    "$$\n",
    "X^j = \n",
    "\\begin{bmatrix}\n",
    "X^j_1 \\\\ \\vdots \\\\ X^j_i \\\\ \\vdots \\\\ X^j_N\n",
    "\\end{bmatrix}\n",
    "$$\n",
    "\n",
    "### Example\n",
    "Let's now create a random dataset $X$, containing two classes of points, each of them with $N = 5$ bi-dimensional points (meaning that $d = 2$).\n",
    "\n",
    "The first thing to do is to separately create the two features for the two classes:\n",
    "- <tt>X1_1</tt> is the 1st feature of class 1 $X_1^1$\n",
    "- <tt>X1_2</tt> is the 2nd feature of class 1 $X_1^2$\n",
    "- <tt>X2_1</tt> is the 1st feature of class 2 $X_2^1$\n",
    "- <tt>X2_2</tt> is the 2nd feature of class 2 $X_2^2$"
   ]
  },
  {
   "cell_type": "code",
   "execution_count": 1,
   "metadata": {},
   "outputs": [
    {
     "data": {
      "text/plain": [
       "<matplotlib.collections.PathCollection at 0x1fa916cbee0>"
      ]
     },
     "execution_count": 1,
     "metadata": {},
     "output_type": "execute_result"
    },
    {
     "data": {
      "image/png": "[encoded data removed]",
      "text/plain": [
       "<Figure size 640x480 with 1 Axes>"
      ]
     },
     "metadata": {},
     "output_type": "display_data"
    }
   ],
   "source": [
    "import numpy as np\n",
    "import matplotlib.pyplot as plt\n",
    "np.random.seed(265)\n",
    "\n",
    "# number of data-points per class\n",
    "N = 10\n",
    "\n",
    "# class 1 - feature 1\n",
    "X1_1 = np.random.normal(size = N)\n",
    "\n",
    "# class 1 - feature 2\n",
    "X1_2 = np.random.normal(size = N)\n",
    "\n",
    "\n",
    "# class 2 - feature 1\n",
    "X2_1 = np.random.normal(size = N) + 3\n",
    "\n",
    "# class 2 - feature 2\n",
    "X2_2 = np.random.normal(size = N) + 3\n",
    "\n",
    "# plot the 2-d set of points\n",
    "plt.scatter(X1_1, X1_2, color='green')\n",
    "plt.scatter(X2_1, X2_2, color='red') "
   ]
  },
  {
   "cell_type": "markdown",
   "metadata": {},
   "source": [
    "Let's now merge together these 4 separate vectors into the matrix $X$, which will be a $(2 \\cdot N) \\times 2$ = $20 \\times 2$ matrix."
   ]
  },
  {
   "cell_type": "code",
   "execution_count": 2,
   "metadata": {},
   "outputs": [
    {
     "name": "stdout",
     "output_type": "stream",
     "text": [
      "dim(X) = 20 x 2\n",
      "[[ 1.92962419  0.24238552]\n",
      " [ 0.21858697 -0.73050775]\n",
      " [ 0.31718307  0.09125457]\n",
      " [ 1.44124242 -0.01314665]\n",
      " [ 0.40576359 -0.77899875]\n",
      " [-0.89214721  0.43265011]\n",
      " [-0.73117681  2.18956107]\n",
      " [-0.04622209  0.10090173]\n",
      " [ 0.90088785 -0.51514093]\n",
      " [ 0.14794735  0.1031288 ]\n",
      " [ 3.28348532  1.59033357]\n",
      " [ 3.52674319  1.36853023]\n",
      " [ 3.13581246  0.63547144]\n",
      " [ 3.10488823  1.5598407 ]\n",
      " [ 1.2789547   3.81042516]\n",
      " [ 3.60265178  3.35896028]\n",
      " [ 2.76350309  3.54081162]\n",
      " [ 5.58955181  3.02659444]\n",
      " [ 4.17102778  4.128368  ]\n",
      " [ 3.64921912  2.23430821]]\n"
     ]
    }
   ],
   "source": [
    "# merge feature 1 of class 1 and 2 into one vector\n",
    "X_1 = np.concatenate((X1_1, X2_1))\n",
    "\n",
    "# merge feature 2 of class 1 and 2 into one vector\n",
    "X_2 = np.concatenate((X1_2, X2_2))\n",
    "\n",
    "# create dataset X\n",
    "X = np.stack((X_1, X_2), axis = 1)\n",
    "\n",
    "print(f\"dim(X) = {X.shape[0]} x {X.shape[1]}\")\n",
    "print(X)"
   ]
  },
  {
   "cell_type": "markdown",
   "metadata": {},
   "source": [
    "## Label vector $y$\n",
    "The label vector $y$ is a vector of the __true samples__ of the oracle function. This is a vertical vector containing the true label for every sample inside the dataset $X$: this means it contains $N$ values, one for each data point.\n",
    "$$\n",
    "y = \n",
    "\\begin{bmatrix}\n",
    "y_1 \\\\ y_2 \\\\ \\vdots \\\\ y_i \\\\ \\vdots \\\\ y_N\n",
    "\\end{bmatrix}\n",
    "$$\n",
    "\n",
    "### Example\n",
    "Let's assume that we want to divide class 1 from class 2: this means that class 1 will have a positive label while class 2 will have a negative one (or vice versa)"
   ]
  },
  {
   "cell_type": "code",
   "execution_count": 3,
   "metadata": {},
   "outputs": [
    {
     "name": "stdout",
     "output_type": "stream",
     "text": [
      "dim(y) = 20\n",
      "[ 1.  1.  1.  1.  1.  1.  1.  1.  1.  1. -1. -1. -1. -1. -1. -1. -1. -1.\n",
      " -1. -1.]\n"
     ]
    }
   ],
   "source": [
    "# label for class 1\n",
    "y1 = np.ones(N)\n",
    "\n",
    "# label for class 2\n",
    "y2 = - np.ones(N)\n",
    "\n",
    "# merge into a 2 * N vector\n",
    "y = np.concatenate((y1, y2))\n",
    "\n",
    "print(f\"dim(y) = {y.shape[0]}\")\n",
    "print(y)"
   ]
  },
  {
   "cell_type": "markdown",
   "metadata": {},
   "source": [
    "## Weight vector $w$\n",
    "The weight vector $w$ weights each feature of the dataset, therefore it is a $d$ dimensional horizontal vector.\n",
    "$$\n",
    "w = \n",
    "\\begin{bmatrix}\n",
    "w_1 & w_2 & \\dots & w_j & \\dots & w_d\n",
    "\\end{bmatrix}\n",
    "$$\n",
    "\n",
    "### Example\n",
    "This vector will be updated during the training phase so it is important to make it the right dimension, then it can be a vector of only 1s or a vector of random values"
   ]
  },
  {
   "cell_type": "code",
   "execution_count": 4,
   "metadata": {},
   "outputs": [
    {
     "name": "stdout",
     "output_type": "stream",
     "text": [
      "dim(w) = 2\n",
      "[-1.60107529  1.93241128]\n"
     ]
    }
   ],
   "source": [
    "# initialize w randomly, with size of 2\n",
    "w = np.random.normal(size = X.shape[1])\n",
    "\n",
    "print(f\"dim(w) = {w.shape[0]}\")\n",
    "print(w)"
   ]
  }
 ],
 "metadata": {
  "kernelspec": {
   "display_name": "Python 3",
   "language": "python",
   "name": "python3"
  },
  "language_info": {
   "codemirror_mode": {
    "name": "ipython",
    "version": 3
   },
   "file_extension": ".py",
   "mimetype": "text/x-python",
   "name": "python",
   "nbconvert_exporter": "python",
   "pygments_lexer": "ipython3",
   "version": "3.9.6"
  }
 },
 "nbformat": 4,
 "nbformat_minor": 2
}
