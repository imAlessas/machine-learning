{
 "cells": [
  {
   "cell_type": "markdown",
   "metadata": {},
   "source": [
    "# GD - Exercise $\\dots$\n",
    "\n",
    "This exercise is intended to create a perceptron with a gradient descent approach to solve a binary classification problem with synthetic data generation\n",
    "\n",
    "## Dataset\n",
    "\n",
    "Each class will have exactly $\\dots$ data points and the seed should be set to $\\dots$.\n",
    "\n",
    "Let's define the first class $X_1$:\n",
    "- $X_1^1$ is a $\\dots$\n",
    "- $X_1^2$ is a $\\dots$\n",
    "\n",
    "The second class $X_2$ is defined as follows:\n",
    "- $X_2^1$ is a $\\dots$\n",
    "- $X_2^2$ is a $\\dots$\n",
    "\n",
    "The class $X_1$ will have the label \"+1\" meanwhile $X_2$ will have the label \"-1\""
   ]
  },
  {
   "cell_type": "code",
   "execution_count": null,
   "metadata": {},
   "outputs": [],
   "source": []
  },
  {
   "cell_type": "markdown",
   "metadata": {},
   "source": [
    "Plot the generated dataset using the <tt>scatter</tt> function"
   ]
  },
  {
   "cell_type": "code",
   "execution_count": null,
   "metadata": {},
   "outputs": [],
   "source": []
  },
  {
   "cell_type": "markdown",
   "metadata": {},
   "source": [
    "Create the dataset $X$ by concatenating $X_1$ and $X_2$ and the bias $X_0$. Do the same to create the labels $Y$"
   ]
  },
  {
   "cell_type": "code",
   "execution_count": null,
   "metadata": {},
   "outputs": [],
   "source": []
  },
  {
   "cell_type": "markdown",
   "metadata": {},
   "source": [
    "### Error function\n",
    "\n",
    "Define the error function as the_Sum Squared Error_ which is: $\\frac{1}{2}\\sum_{i = 1}^N(\\text{e}_i)^2$, where $e$ is the error vector"
   ]
  },
  {
   "cell_type": "code",
   "execution_count": null,
   "metadata": {},
   "outputs": [],
   "source": []
  },
  {
   "cell_type": "markdown",
   "metadata": {},
   "source": [
    "## Learning\n",
    "\n",
    "Set up the vector of weight $w$ as a $\\dots$ then train the Perceptron model using the gradient descent approach, implementing the following requirements\n",
    "- set parameter $\\eta$ to $\\dots$\n",
    "- set the maximum number of epochs to $\\dots$\n",
    "\n",
    "In addition, note that we want to keep track of the errors per epoch. Store in a vector named <tt>errors_epoch</tt> the number of misclassified objects for each epoch and in another vector<tt>sse_epoch</tt>, the sum of squared errors per each epoch\n"
   ]
  },
  {
   "cell_type": "code",
   "execution_count": null,
   "metadata": {},
   "outputs": [],
   "source": []
  },
  {
   "cell_type": "markdown",
   "metadata": {},
   "source": [
    "Display raw the plots containing the solution found."
   ]
  },
  {
   "cell_type": "code",
   "execution_count": null,
   "metadata": {},
   "outputs": [],
   "source": []
  },
  {
   "cell_type": "markdown",
   "metadata": {},
   "source": [
    "Display the two error plots using the two error vectors"
   ]
  },
  {
   "cell_type": "code",
   "execution_count": null,
   "metadata": {},
   "outputs": [],
   "source": []
  }
 ],
 "metadata": {
  "language_info": {
   "name": "python"
  }
 },
 "nbformat": 4,
 "nbformat_minor": 2
}
