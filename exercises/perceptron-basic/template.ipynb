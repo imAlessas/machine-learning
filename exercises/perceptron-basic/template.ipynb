{
 "cells": [
  {
   "cell_type": "markdown",
   "metadata": {},
   "source": [
    "# PLA - Exercise $\\dots$\n",
    "\n",
    "This exercise is intended to create a simple perceptron to solve a binary classification problem with synthetic data generation\n",
    "\n",
    "## Dataset\n",
    "\n",
    "Each class will have exactly $\\dots$ data points and the seed should be set to $\\dots$.\n",
    "\n",
    "Let's define the first class $X_1$:\n",
    "- $X_1^1$ is a $\\dots$\n",
    "- $X_1^2$ is a $\\dots$\n",
    "\n",
    "The second class $X_2$ is defined as follows:\n",
    "- $X_2^1$ is a $\\dots$\n",
    "- $X_2^2$ is a $\\dots$\n",
    "\n",
    "The class $X_1$ will have the label \"+1\" meanwhile $X_2$ will have the label \"-1\""
   ]
  },
  {
   "cell_type": "code",
   "execution_count": null,
   "metadata": {},
   "outputs": [],
   "source": []
  },
  {
   "cell_type": "markdown",
   "metadata": {},
   "source": [
    "Plot the generated dataset using the <tt>scatter</tt> function"
   ]
  },
  {
   "cell_type": "code",
   "execution_count": null,
   "metadata": {},
   "outputs": [],
   "source": []
  },
  {
   "cell_type": "markdown",
   "metadata": {},
   "source": [
    "Create the dataset $X$ by concatenating $X_1$ and $X_2$ and the bias $X_0$. Do the same to create the labels $Y$"
   ]
  },
  {
   "cell_type": "code",
   "execution_count": null,
   "metadata": {},
   "outputs": [],
   "source": []
  },
  {
   "cell_type": "markdown",
   "metadata": {},
   "source": [
    "## Learning\n",
    "\n",
    "Set up the vector of weight $w$ as a $\\dots$ then train the Perceptron model using the basic __PLA__ algorithm, implementing the following requirements\n",
    "- set parameter $\\eta$ to $\\dots$\n",
    "- set the maximum number of epochs to $\\dots$\n",
    "\n",
    "In addition, note that we want to keep track of the errors per epoch. Store in a vector named <tt>errors_epoch</tt> the number of misclassified objects for each epoch.\n"
   ]
  },
  {
   "cell_type": "code",
   "execution_count": null,
   "metadata": {},
   "outputs": [],
   "source": []
  },
  {
   "cell_type": "markdown",
   "metadata": {},
   "source": [
    "Now draw the plots containing the solution found by the PLA and the plot containing the errors per epoch"
   ]
  },
  {
   "cell_type": "code",
   "execution_count": null,
   "metadata": {},
   "outputs": [],
   "source": []
  }
 ],
 "metadata": {
  "kernelspec": {
   "display_name": "Python 3",
   "language": "python",
   "name": "python3"
  },
  "language_info": {
   "codemirror_mode": {
    "name": "ipython",
    "version": 3
   },
   "file_extension": ".py",
   "mimetype": "text/x-python",
   "name": "python",
   "nbconvert_exporter": "python",
   "pygments_lexer": "ipython3",
   "version": "3.9.6"
  }
 },
 "nbformat": 4,
 "nbformat_minor": 2
}
