{
 "cells": [
  {
   "cell_type": "markdown",
   "metadata": {},
   "source": [
    "# Perceptron classification\n",
    "\n",
    "\n",
    "## Data setup\n",
    "\n",
    "First thing to do is to set the seed. The generate N points or each class. We put N with value of 250 and then define the probabilities for the two feature of X1 and for the two features fo X2."
   ]
  },
  {
   "cell_type": "code",
   "execution_count": 23,
   "metadata": {},
   "outputs": [],
   "source": [
    "import numpy as np\n",
    "\n",
    "# set seed\n",
    "np.random.seed(3049)\n",
    "\n",
    "# samples\n",
    "N = 250\n",
    "\n",
    "# class 1\n",
    "X1_1 = np.random.normal(loc=0.5, scale=1.5, size=N)\n",
    "X1_2 = np.random.normal(loc=5.4, scale=0.5, size=N)\n",
    "\n",
    "# class 2\n",
    "X2_1 = np.random.poisson(lam=1.5, size=N)\n",
    "X2_2 = np.random.exponential(scale=2, size=N)\n",
    "\n",
    "# labels\n",
    "Y1 = np.ones(N)\n",
    "Y2 = - np.ones(N)\n"
   ]
  },
  {
   "cell_type": "markdown",
   "metadata": {},
   "source": [
    "Prit the data using matplotlib"
   ]
  },
  {
   "cell_type": "code",
   "execution_count": 24,
   "metadata": {},
   "outputs": [
    {
     "data": {
      "image/png": "[encoded data removed]",
      "text/plain": [
       "<Figure size 640x480 with 1 Axes>"
      ]
     },
     "metadata": {},
     "output_type": "display_data"
    }
   ],
   "source": [
    "import matplotlib.pyplot as plt\n",
    "\n",
    "# plot X1\n",
    "plt.figure()\n",
    "plt.scatter(X1_1, X2_1)\n",
    "\n",
    "\n",
    "# plot X2\n",
    "plt.scatter(X1_2, X2_2)\n",
    "\n",
    "# display plots\n",
    "plt.show()\n"
   ]
  },
  {
   "cell_type": "markdown",
   "metadata": {},
   "source": [
    "Create a matrix of points X where each row is an object and each column is its feature. Remember to add the bias X0. Then create also the output vector Y."
   ]
  },
  {
   "cell_type": "code",
   "execution_count": 25,
   "metadata": {},
   "outputs": [],
   "source": [
    "# create the bias vector\n",
    "X0 = np.ones(2 * N)\n",
    "\n",
    "# create the data matrix X1 for set 1\n",
    "X1 = np.concatenate((X1_1, X2_1))\n",
    "\n",
    "# create the data matrix X2 for set 2\n",
    "X2 = np.concatenate((X1_2, X2_2))\n",
    "\n",
    "# create the data matrix X\n",
    "X = np.stack((X0, X1, X2), axis=1)\n",
    "\n",
    "# create label vector Y\n",
    "Y = np.concatenate((Y1, Y2))"
   ]
  },
  {
   "cell_type": "markdown",
   "metadata": {},
   "source": [
    "## Training part\n",
    "\n",
    "Step to train:\n",
    "1. Initialize vector of parameters w with a normal distribution and mean zero\n",
    "1. Learning rate to 1e-4\n",
    "1. Mini batch of size 20\n",
    "1. Max epochs to 500\n",
    "1. Vector epoch error\n"
   ]
  },
  {
   "cell_type": "code",
   "execution_count": 26,
   "metadata": {},
   "outputs": [
    {
     "ename": "ValueError",
     "evalue": "operands could not be broadcast together with shapes (500,) (500,3) ",
     "output_type": "error",
     "traceback": [
      "\u001b[1;31m---------------------------------------------------------------------------\u001b[0m",
      "\u001b[1;31mValueError\u001b[0m                                Traceback (most recent call last)",
      "Cell \u001b[1;32mIn[26], line 22\u001b[0m\n\u001b[0;32m     18\u001b[0m \u001b[38;5;28;01mwhile\u001b[39;00m \u001b[38;5;28;01mTrue\u001b[39;00m:\n\u001b[0;32m     20\u001b[0m     perceptron_output \u001b[38;5;241m=\u001b[39m np\u001b[38;5;241m.\u001b[39msign(np\u001b[38;5;241m.\u001b[39mdot(X, w))\n\u001b[1;32m---> 22\u001b[0m     errors_epoch[epoch] \u001b[38;5;241m=\u001b[39m np\u001b[38;5;241m.\u001b[39msum(\u001b[43mY\u001b[49m\u001b[43m \u001b[49m\u001b[38;5;241;43m*\u001b[39;49m\u001b[43m \u001b[49m\u001b[43mperceptron_output\u001b[49m \u001b[38;5;241m<\u001b[39m \u001b[38;5;241m0\u001b[39m)\n\u001b[0;32m     24\u001b[0m     \u001b[38;5;66;03m# permutation\u001b[39;00m\n\u001b[0;32m     25\u001b[0m     rand_perm \u001b[38;5;241m=\u001b[39m np\u001b[38;5;241m.\u001b[39mrandom\u001b[38;5;241m.\u001b[39mpermutation(\u001b[38;5;28mrange\u001b[39m(Y\u001b[38;5;241m.\u001b[39mshape[\u001b[38;5;241m0\u001b[39m]))\n",
      "\u001b[1;31mValueError\u001b[0m: operands could not be broadcast together with shapes (500,) (500,3) "
     ]
    }
   ],
   "source": [
    "# weight vector\n",
    "w = np.random.normal(X.shape[0])\n",
    "\n",
    "# define epochs\n",
    "max_epochs = 500\n",
    "epoch = 0\n",
    "\n",
    "# define error vector per epoch\n",
    "errors_epoch = []\n",
    "\n",
    "# learning rate\n",
    "eta = 1e-4\n",
    "\n",
    "batch_size = 20\n",
    "\n",
    "\n",
    "# start training\n",
    "while True:\n",
    "\n",
    "    perceptron_output = np.sign(np.dot(X, w))\n",
    "\n",
    "    errors_epoch[epoch] = np.sum(Y * perceptron_output < 0)\n",
    "\n",
    "    # permutation\n",
    "    rand_perm = np.random.permutation(range(Y.shape[0]))\n",
    "    X = X[rand_perm, :]\n",
    "    Y = Y[rand_perm]\n",
    "\n",
    "    # mini batch learning\n",
    "    for j in range(0, Y.shape[0], step=batch_size):\n",
    "        X_batch = X[j : (j + batch_size), :]\n",
    "        Y_batch = Y[j : (j + batch_size)]\n",
    "\n",
    "        # compute errors\n",
    "        errors = Y_batch - np.dot(X_batch, w)\n",
    "\n",
    "        # update rule\n",
    "        w = w + eta * np.dot(np.transpose(X_batch), errors)\n",
    "\n",
    "    epoch += 1\n",
    "    if max_epochs == epoch:\n",
    "        break\n",
    "\n",
    "# put it here for last iteration\n",
    "errors_epoch[epoch] = np.sum(Y * perceptron_output < 0)\n",
    "\n",
    "\n",
    "\n",
    "\n"
   ]
  }
 ],
 "metadata": {
  "kernelspec": {
   "display_name": "Python 3",
   "language": "python",
   "name": "python3"
  },
  "language_info": {
   "codemirror_mode": {
    "name": "ipython",
    "version": 3
   },
   "file_extension": ".py",
   "mimetype": "text/x-python",
   "name": "python",
   "nbconvert_exporter": "python",
   "pygments_lexer": "ipython3",
   "version": "3.9.6"
  }
 },
 "nbformat": 4,
 "nbformat_minor": 2
}
