{
 "cells": [
  {
   "cell_type": "markdown",
   "metadata": {},
   "source": [
    "# Multiclass - Exercise $\\dots$\n",
    "\n",
    "Create a dataset with three classes, each class has N = $\\dots$ objects, represented by two variables X1 and X2 according to the following requirements (seed = $\\dots$):\n",
    "\n",
    "The feature $X^1$ is distributed as follows:\n",
    "- $X^1_1$ is a $\\dots$\n",
    "- $X^1_2$ is a $\\dots$\n",
    "- $X^1_3$ is a $\\dots$\n",
    "\n",
    "The feature $X^2$ is distributed as follows:\n",
    "- $X^2_1$ is a $\\dots$\n",
    "- $X^2_2$ is a $\\dots$\n",
    "- $X^2_3$ is a $\\dots$\n",
    "\n",
    "Each class has its label $Y$ that can be $1$, $2$ or $3$"
   ]
  },
  {
   "cell_type": "code",
   "execution_count": null,
   "metadata": {},
   "outputs": [],
   "source": []
  },
  {
   "cell_type": "markdown",
   "metadata": {},
   "source": [
    "Plot the generated dataset using the <tt>scatter</tt> function"
   ]
  },
  {
   "cell_type": "code",
   "execution_count": null,
   "metadata": {},
   "outputs": [],
   "source": []
  },
  {
   "cell_type": "markdown",
   "metadata": {},
   "source": [
    "Create a matrix of points $X$ (each row is an object) and a vector $Y$ of labels. Remember that we need the coordinate $X_0$ for the bias term (all ones)."
   ]
  },
  {
   "cell_type": "code",
   "execution_count": null,
   "metadata": {},
   "outputs": [],
   "source": []
  },
  {
   "cell_type": "markdown",
   "metadata": {},
   "source": [
    "We want to train a binary classifier for class $\\dots$. To this purpose, create a vector of labels <tt>y_class</tt> that contains 1 for each object belonging to the class under study (positive class) and -1 for all the other objects."
   ]
  },
  {
   "cell_type": "code",
   "execution_count": null,
   "metadata": {},
   "outputs": [],
   "source": []
  },
  {
   "cell_type": "markdown",
   "metadata": {},
   "source": [
    "Using <tt>plt.scatter</tt> plot the new binary classification problem"
   ]
  },
  {
   "cell_type": "code",
   "execution_count": null,
   "metadata": {},
   "outputs": [],
   "source": []
  },
  {
   "cell_type": "markdown",
   "metadata": {},
   "source": [
    "## Error function\n",
    "\n",
    "Write the function <tt>sse(X, Y, w)</tt> that takes the data matrix $X$, the labels $Y$, and the vector of parameters $w$ and computes sum of squared errors defined as $\\sum\\left( Y - X\\cdot w \\right)^2$"
   ]
  },
  {
   "cell_type": "code",
   "execution_count": null,
   "metadata": {},
   "outputs": [],
   "source": []
  },
  {
   "cell_type": "markdown",
   "metadata": {},
   "source": [
    "## Learning\n",
    "\n",
    "After defining the vector of weights as a uniform distribution within the range \\[-1. 1\\], start training the model by using $\\eta = \\dots$ and the maximum epochs to $\\dots$. \n",
    "\n",
    "For each epoch save the sum of squared errors in the <tt>sse_epoch</tt> vector and the number of objects misclassified in the vector <tt>errors_epoch</tt>.\n"
   ]
  },
  {
   "cell_type": "code",
   "execution_count": null,
   "metadata": {},
   "outputs": [],
   "source": []
  },
  {
   "cell_type": "markdown",
   "metadata": {},
   "source": [
    "Display raw the plots containing the solution found by the PLA"
   ]
  },
  {
   "cell_type": "code",
   "execution_count": null,
   "metadata": {},
   "outputs": [],
   "source": []
  },
  {
   "cell_type": "markdown",
   "metadata": {},
   "source": [
    "Now display the two error plots using the two error vectors"
   ]
  },
  {
   "cell_type": "code",
   "execution_count": null,
   "metadata": {},
   "outputs": [],
   "source": []
  }
 ],
 "metadata": {
  "kernelspec": {
   "display_name": "Python 3",
   "language": "python",
   "name": "python3"
  },
  "language_info": {
   "codemirror_mode": {
    "name": "ipython",
    "version": 3
   },
   "file_extension": ".py",
   "mimetype": "text/x-python",
   "name": "python",
   "nbconvert_exporter": "python",
   "pygments_lexer": "ipython3",
   "version": "3.9.6"
  }
 },
 "nbformat": 4,
 "nbformat_minor": 2
}
